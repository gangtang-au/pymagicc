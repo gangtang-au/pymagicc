{
 "cells": [
  {
   "cell_type": "code",
   "execution_count": 267,
   "id": "1a1b7b13-e96c-42cf-b61e-db578554c1bb",
   "metadata": {},
   "outputs": [
    {
     "name": "stdout",
     "output_type": "stream",
     "text": [
      "The nb_black extension is already loaded. To reload it, use:\n",
      "  %reload_ext nb_black\n"
     ]
    },
    {
     "data": {
      "application/javascript": [
       "\n",
       "            setTimeout(function() {\n",
       "                var nbb_cell_id = 267;\n",
       "                var nbb_unformatted_code = \"%load_ext nb_black\\n\\nfrom __future__ import annotations\\n\\nimport os\\nfrom pathlib import Path\\n\\nimport matplotlib.pyplot as plt\\nimport pymagicc\\nimport scmdata\\nimport pickle\\nimport xarray as xr\\nimport numpy as np\";\n",
       "                var nbb_formatted_code = \"%load_ext nb_black\\n\\nfrom __future__ import annotations\\n\\nimport os\\nfrom pathlib import Path\\n\\nimport matplotlib.pyplot as plt\\nimport pymagicc\\nimport scmdata\\nimport pickle\\nimport xarray as xr\\nimport numpy as np\";\n",
       "                var nbb_cells = Jupyter.notebook.get_cells();\n",
       "                for (var i = 0; i < nbb_cells.length; ++i) {\n",
       "                    if (nbb_cells[i].input_prompt_number == nbb_cell_id) {\n",
       "                        if (nbb_cells[i].get_text() == nbb_unformatted_code) {\n",
       "                             nbb_cells[i].set_text(nbb_formatted_code);\n",
       "                        }\n",
       "                        break;\n",
       "                    }\n",
       "                }\n",
       "            }, 500);\n",
       "            "
      ],
      "text/plain": [
       "<IPython.core.display.Javascript object>"
      ]
     },
     "metadata": {},
     "output_type": "display_data"
    }
   ],
   "source": [
    "%load_ext nb_black\n",
    "\n",
    "from __future__ import annotations\n",
    "\n",
    "import os\n",
    "from pathlib import Path\n",
    "\n",
    "import matplotlib.pyplot as plt\n",
    "import pymagicc\n",
    "import scmdata\n",
    "import pickle\n",
    "import xarray as xr\n",
    "import numpy as np"
   ]
  },
  {
   "cell_type": "code",
   "execution_count": 268,
   "id": "1bc40409-07c4-40b4-b07a-f31fd3b12468",
   "metadata": {
    "scrolled": true
   },
   "outputs": [
    {
     "data": {
      "application/javascript": [
       "\n",
       "            setTimeout(function() {\n",
       "                var nbb_cell_id = 268;\n",
       "                var nbb_unformatted_code = \"import pint\\nimport openscm_units\\n# Have to set this before importing so the verify_units wrappers\\n# behave with carbon cycle units like GtC.\\npint.set_application_registry(openscm_units.unit_registry)\";\n",
       "                var nbb_formatted_code = \"import pint\\nimport openscm_units\\n\\n# Have to set this before importing so the verify_units wrappers\\n# behave with carbon cycle units like GtC.\\npint.set_application_registry(openscm_units.unit_registry)\";\n",
       "                var nbb_cells = Jupyter.notebook.get_cells();\n",
       "                for (var i = 0; i < nbb_cells.length; ++i) {\n",
       "                    if (nbb_cells[i].input_prompt_number == nbb_cell_id) {\n",
       "                        if (nbb_cells[i].get_text() == nbb_unformatted_code) {\n",
       "                             nbb_cells[i].set_text(nbb_formatted_code);\n",
       "                        }\n",
       "                        break;\n",
       "                    }\n",
       "                }\n",
       "            }, 500);\n",
       "            "
      ],
      "text/plain": [
       "<IPython.core.display.Javascript object>"
      ]
     },
     "metadata": {},
     "output_type": "display_data"
    }
   ],
   "source": [
    "import pint\n",
    "import openscm_units\n",
    "# Have to set this before importing so the verify_units wrappers\n",
    "# behave with carbon cycle units like GtC.\n",
    "pint.set_application_registry(openscm_units.unit_registry)"
   ]
  },
  {
   "cell_type": "code",
   "execution_count": null,
   "id": "004037fe-8732-43f7-b6d6-a298db6c46bc",
   "metadata": {},
   "outputs": [],
   "source": []
  },
  {
   "cell_type": "code",
   "execution_count": null,
   "id": "1cde1ed1-4f5f-4a61-93ae-f32b74dff817",
   "metadata": {},
   "outputs": [],
   "source": []
  },
  {
   "cell_type": "code",
   "execution_count": null,
   "id": "baecf9df-0f44-4fc2-b297-3f8e11f02f56",
   "metadata": {},
   "outputs": [],
   "source": []
  },
  {
   "cell_type": "code",
   "execution_count": 269,
   "id": "980b3aba-c8af-4c75-bc39-14328b7b7533",
   "metadata": {},
   "outputs": [
    {
     "data": {
      "application/javascript": [
       "\n",
       "            setTimeout(function() {\n",
       "                var nbb_cell_id = 269;\n",
       "                var nbb_unformatted_code = \"UR = pint.get_application_registry()\\nQ = UR.Quantity\\nQType = pint.UnitRegistry.Quantity\";\n",
       "                var nbb_formatted_code = \"UR = pint.get_application_registry()\\nQ = UR.Quantity\\nQType = pint.UnitRegistry.Quantity\";\n",
       "                var nbb_cells = Jupyter.notebook.get_cells();\n",
       "                for (var i = 0; i < nbb_cells.length; ++i) {\n",
       "                    if (nbb_cells[i].input_prompt_number == nbb_cell_id) {\n",
       "                        if (nbb_cells[i].get_text() == nbb_unformatted_code) {\n",
       "                             nbb_cells[i].set_text(nbb_formatted_code);\n",
       "                        }\n",
       "                        break;\n",
       "                    }\n",
       "                }\n",
       "            }, 500);\n",
       "            "
      ],
      "text/plain": [
       "<IPython.core.display.Javascript object>"
      ]
     },
     "metadata": {},
     "output_type": "display_data"
    }
   ],
   "source": [
    "UR = pint.get_application_registry()\n",
    "Q = UR.Quantity\n",
    "QType = pint.UnitRegistry.Quantity"
   ]
  },
  {
   "cell_type": "code",
   "execution_count": 270,
   "id": "8af889e7-9937-4eb0-8cea-8395f3dda9f0",
   "metadata": {},
   "outputs": [
    {
     "data": {
      "application/javascript": [
       "\n",
       "            setTimeout(function() {\n",
       "                var nbb_cell_id = 270;\n",
       "                var nbb_unformatted_code = \"# import parameter values \\npath = (\\n    \\\"/Users/gatang/Research/MAGICC CN Cycle/magicc-cn-cycle/notebooks/cali_res_txt_pkl/\\\"\\n)\\nwith open(path + \\\"para_dict_A.pkl\\\", \\\"rb\\\") as file:\\n    # Load the data from the Pickle file\\n    para_dict_A = pickle.load(file)\";\n",
       "                var nbb_formatted_code = \"# import parameter values\\npath = (\\n    \\\"/Users/gatang/Research/MAGICC CN Cycle/magicc-cn-cycle/notebooks/cali_res_txt_pkl/\\\"\\n)\\nwith open(path + \\\"para_dict_A.pkl\\\", \\\"rb\\\") as file:\\n    # Load the data from the Pickle file\\n    para_dict_A = pickle.load(file)\";\n",
       "                var nbb_cells = Jupyter.notebook.get_cells();\n",
       "                for (var i = 0; i < nbb_cells.length; ++i) {\n",
       "                    if (nbb_cells[i].input_prompt_number == nbb_cell_id) {\n",
       "                        if (nbb_cells[i].get_text() == nbb_unformatted_code) {\n",
       "                             nbb_cells[i].set_text(nbb_formatted_code);\n",
       "                        }\n",
       "                        break;\n",
       "                    }\n",
       "                }\n",
       "            }, 500);\n",
       "            "
      ],
      "text/plain": [
       "<IPython.core.display.Javascript object>"
      ]
     },
     "metadata": {},
     "output_type": "display_data"
    }
   ],
   "source": [
    "# import parameter values \n",
    "path = (\n",
    "    \"/Users/gatang/Research/MAGICC CN Cycle/magicc-cn-cycle/notebooks/cali_res_txt_pkl/\"\n",
    ")\n",
    "with open(path + \"para_dict_A.pkl\", \"rb\") as file:\n",
    "    # Load the data from the Pickle file\n",
    "    para_dict_A = pickle.load(file)"
   ]
  },
  {
   "cell_type": "code",
   "execution_count": 271,
   "id": "4e15036b-268b-4a20-aa8e-706a30ac33f4",
   "metadata": {},
   "outputs": [
    {
     "data": {
      "application/javascript": [
       "\n",
       "            setTimeout(function() {\n",
       "                var nbb_cell_id = 271;\n",
       "                var nbb_unformatted_code = \"mdl_A = list(para_dict_A.keys())[:6]\";\n",
       "                var nbb_formatted_code = \"mdl_A = list(para_dict_A.keys())[:6]\";\n",
       "                var nbb_cells = Jupyter.notebook.get_cells();\n",
       "                for (var i = 0; i < nbb_cells.length; ++i) {\n",
       "                    if (nbb_cells[i].input_prompt_number == nbb_cell_id) {\n",
       "                        if (nbb_cells[i].get_text() == nbb_unformatted_code) {\n",
       "                             nbb_cells[i].set_text(nbb_formatted_code);\n",
       "                        }\n",
       "                        break;\n",
       "                    }\n",
       "                }\n",
       "            }, 500);\n",
       "            "
      ],
      "text/plain": [
       "<IPython.core.display.Javascript object>"
      ]
     },
     "metadata": {},
     "output_type": "display_data"
    }
   ],
   "source": [
    "mdl_A = list(para_dict_A.keys())[:6]"
   ]
  },
  {
   "cell_type": "code",
   "execution_count": 272,
   "id": "4fd3f1c8-dede-46ec-a34c-c074c549cd85",
   "metadata": {},
   "outputs": [
    {
     "data": {
      "text/plain": [
       "['CMCC-CM2-SR5',\n",
       " 'CMCC-ESM2',\n",
       " 'MPI-ESM1-2-LR',\n",
       " 'NorESM2-LM',\n",
       " 'UKESM1-0-LL',\n",
       " 'MIROC-ES2L']"
      ]
     },
     "execution_count": 272,
     "metadata": {},
     "output_type": "execute_result"
    },
    {
     "data": {
      "application/javascript": [
       "\n",
       "            setTimeout(function() {\n",
       "                var nbb_cell_id = 272;\n",
       "                var nbb_unformatted_code = \"mdl_A\";\n",
       "                var nbb_formatted_code = \"mdl_A\";\n",
       "                var nbb_cells = Jupyter.notebook.get_cells();\n",
       "                for (var i = 0; i < nbb_cells.length; ++i) {\n",
       "                    if (nbb_cells[i].input_prompt_number == nbb_cell_id) {\n",
       "                        if (nbb_cells[i].get_text() == nbb_unformatted_code) {\n",
       "                             nbb_cells[i].set_text(nbb_formatted_code);\n",
       "                        }\n",
       "                        break;\n",
       "                    }\n",
       "                }\n",
       "            }, 500);\n",
       "            "
      ],
      "text/plain": [
       "<IPython.core.display.Javascript object>"
      ]
     },
     "metadata": {},
     "output_type": "display_data"
    }
   ],
   "source": [
    "mdl_A"
   ]
  },
  {
   "cell_type": "code",
   "execution_count": 273,
   "id": "4f9b916e-68a9-4e59-b117-1958a0913d5a",
   "metadata": {},
   "outputs": [
    {
     "data": {
      "text/plain": [
       "'UKESM1-0-LL'"
      ]
     },
     "execution_count": 273,
     "metadata": {},
     "output_type": "execute_result"
    },
    {
     "data": {
      "application/javascript": [
       "\n",
       "            setTimeout(function() {\n",
       "                var nbb_cell_id = 273;\n",
       "                var nbb_unformatted_code = \"mdl = mdl_A[4]\\nexp = \\\"hist_ssp585\\\"\\nmdl\";\n",
       "                var nbb_formatted_code = \"mdl = mdl_A[4]\\nexp = \\\"hist_ssp585\\\"\\nmdl\";\n",
       "                var nbb_cells = Jupyter.notebook.get_cells();\n",
       "                for (var i = 0; i < nbb_cells.length; ++i) {\n",
       "                    if (nbb_cells[i].input_prompt_number == nbb_cell_id) {\n",
       "                        if (nbb_cells[i].get_text() == nbb_unformatted_code) {\n",
       "                             nbb_cells[i].set_text(nbb_formatted_code);\n",
       "                        }\n",
       "                        break;\n",
       "                    }\n",
       "                }\n",
       "            }, 500);\n",
       "            "
      ],
      "text/plain": [
       "<IPython.core.display.Javascript object>"
      ]
     },
     "metadata": {},
     "output_type": "display_data"
    }
   ],
   "source": [
    "mdl = mdl_A[4]\n",
    "exp = \"hist_ssp585\"\n",
    "mdl"
   ]
  },
  {
   "cell_type": "code",
   "execution_count": 274,
   "id": "f5c55301-c2c9-45b9-adea-2390e212ea22",
   "metadata": {},
   "outputs": [
    {
     "data": {
      "application/javascript": [
       "\n",
       "            setTimeout(function() {\n",
       "                var nbb_cell_id = 274;\n",
       "                var nbb_unformatted_code = \"# import the mdl_cn_cycle input\\npath = \\\"/Users/gatang/Research/MAGICC CN Cycle/magicc-cn-cycle/data/CMIP6/\\\"+mdl+\\\"_gl_yr_for_MAGICC_GT.nc\\\"\\nds = xr.open_dataset(path)\";\n",
       "                var nbb_formatted_code = \"# import the mdl_cn_cycle input\\npath = (\\n    \\\"/Users/gatang/Research/MAGICC CN Cycle/magicc-cn-cycle/data/CMIP6/\\\"\\n    + mdl\\n    + \\\"_gl_yr_for_MAGICC_GT.nc\\\"\\n)\\nds = xr.open_dataset(path)\";\n",
       "                var nbb_cells = Jupyter.notebook.get_cells();\n",
       "                for (var i = 0; i < nbb_cells.length; ++i) {\n",
       "                    if (nbb_cells[i].input_prompt_number == nbb_cell_id) {\n",
       "                        if (nbb_cells[i].get_text() == nbb_unformatted_code) {\n",
       "                             nbb_cells[i].set_text(nbb_formatted_code);\n",
       "                        }\n",
       "                        break;\n",
       "                    }\n",
       "                }\n",
       "            }, 500);\n",
       "            "
      ],
      "text/plain": [
       "<IPython.core.display.Javascript object>"
      ]
     },
     "metadata": {},
     "output_type": "display_data"
    }
   ],
   "source": [
    "# import the mdl_cn_cycle input\n",
    "path = \"/Users/gatang/Research/MAGICC CN Cycle/magicc-cn-cycle/data/CMIP6/\"+mdl+\"_gl_yr_for_MAGICC_GT.nc\"\n",
    "ds = xr.open_dataset(path)"
   ]
  },
  {
   "cell_type": "code",
   "execution_count": 275,
   "id": "d222732b-0b44-459a-b046-fd702831bb56",
   "metadata": {},
   "outputs": [
    {
     "data": {
      "application/javascript": [
       "\n",
       "            setTimeout(function() {\n",
       "                var nbb_cell_id = 275;\n",
       "                var nbb_unformatted_code = \"CO2_hist_ssp = xr.open_dataset(\\\"/Users/gatang/Research/MAGICC CN Cycle/magicc-cn-cycle/data/CMIP6/CO2_hist_ssp_for_MAGICC_GT.nc\\\")\";\n",
       "                var nbb_formatted_code = \"CO2_hist_ssp = xr.open_dataset(\\n    \\\"/Users/gatang/Research/MAGICC CN Cycle/magicc-cn-cycle/data/CMIP6/CO2_hist_ssp_for_MAGICC_GT.nc\\\"\\n)\";\n",
       "                var nbb_cells = Jupyter.notebook.get_cells();\n",
       "                for (var i = 0; i < nbb_cells.length; ++i) {\n",
       "                    if (nbb_cells[i].input_prompt_number == nbb_cell_id) {\n",
       "                        if (nbb_cells[i].get_text() == nbb_unformatted_code) {\n",
       "                             nbb_cells[i].set_text(nbb_formatted_code);\n",
       "                        }\n",
       "                        break;\n",
       "                    }\n",
       "                }\n",
       "            }, 500);\n",
       "            "
      ],
      "text/plain": [
       "<IPython.core.display.Javascript object>"
      ]
     },
     "metadata": {},
     "output_type": "display_data"
    }
   ],
   "source": [
    "CO2_hist_ssp = xr.open_dataset(\"/Users/gatang/Research/MAGICC CN Cycle/magicc-cn-cycle/data/CMIP6/CO2_hist_ssp_for_MAGICC_GT.nc\")"
   ]
  },
  {
   "cell_type": "code",
   "execution_count": 276,
   "id": "ee48469d-af67-497f-a78c-7169437845ab",
   "metadata": {
    "scrolled": true
   },
   "outputs": [
    {
     "data": {
      "application/javascript": [
       "\n",
       "            setTimeout(function() {\n",
       "                var nbb_cell_id = 276;\n",
       "                var nbb_unformatted_code = \"para_cn = para_dict_A[mdl]\\npara_cn[\\\"n_switch\\\"] = Q(1, \\\"1\\\")\\npara_cn[\\\"t0\\\"] = Q(ds.sel(exp=exp)[\\\"time\\\"].data[0].year, \\\"yr\\\")\\npara_cn[\\\"CplsP0\\\"] = Q(ds.sel(exp=exp)[\\\"cVeg\\\"].data[0], \\\"GtC\\\")\\n\\npara_cn[\\\"CplsL0\\\"] = Q(ds.sel(exp=exp)[\\\"cLitter\\\"].data[0], \\\"GtC\\\") if \\\"UKESM\\\" not in mdl else Q(0, \\\"GtC\\\")\\npara_cn[\\\"CplsS0\\\"] = Q(ds.sel(exp=exp)[\\\"cSoil\\\"].data[0], \\\"GtC\\\")\\npara_cn[\\\"NplsP0\\\"] = Q(ds.sel(exp=exp)[\\\"nVeg\\\"].data[0], \\\"GtN\\\")\\npara_cn[\\\"NplsL0\\\"] = Q(ds.sel(exp=exp)[\\\"nLitter\\\"].data[0], \\\"GtN\\\") if \\\"UKESM\\\" not in mdl else Q(0, \\\"GtN\\\")\\npara_cn[\\\"NplsS0\\\"] = Q(ds.sel(exp=exp)[\\\"nSoil\\\"].data[0], \\\"GtN\\\")\\npara_cn[\\\"NplsM0\\\"] = Q(ds.sel(exp=exp)[\\\"nMineral\\\"].data[0], \\\"GtN\\\")\";\n",
       "                var nbb_formatted_code = \"para_cn = para_dict_A[mdl]\\npara_cn[\\\"n_switch\\\"] = Q(1, \\\"1\\\")\\npara_cn[\\\"t0\\\"] = Q(ds.sel(exp=exp)[\\\"time\\\"].data[0].year, \\\"yr\\\")\\npara_cn[\\\"CplsP0\\\"] = Q(ds.sel(exp=exp)[\\\"cVeg\\\"].data[0], \\\"GtC\\\")\\n\\npara_cn[\\\"CplsL0\\\"] = (\\n    Q(ds.sel(exp=exp)[\\\"cLitter\\\"].data[0], \\\"GtC\\\") if \\\"UKESM\\\" not in mdl else Q(0, \\\"GtC\\\")\\n)\\npara_cn[\\\"CplsS0\\\"] = Q(ds.sel(exp=exp)[\\\"cSoil\\\"].data[0], \\\"GtC\\\")\\npara_cn[\\\"NplsP0\\\"] = Q(ds.sel(exp=exp)[\\\"nVeg\\\"].data[0], \\\"GtN\\\")\\npara_cn[\\\"NplsL0\\\"] = (\\n    Q(ds.sel(exp=exp)[\\\"nLitter\\\"].data[0], \\\"GtN\\\") if \\\"UKESM\\\" not in mdl else Q(0, \\\"GtN\\\")\\n)\\npara_cn[\\\"NplsS0\\\"] = Q(ds.sel(exp=exp)[\\\"nSoil\\\"].data[0], \\\"GtN\\\")\\npara_cn[\\\"NplsM0\\\"] = Q(ds.sel(exp=exp)[\\\"nMineral\\\"].data[0], \\\"GtN\\\")\";\n",
       "                var nbb_cells = Jupyter.notebook.get_cells();\n",
       "                for (var i = 0; i < nbb_cells.length; ++i) {\n",
       "                    if (nbb_cells[i].input_prompt_number == nbb_cell_id) {\n",
       "                        if (nbb_cells[i].get_text() == nbb_unformatted_code) {\n",
       "                             nbb_cells[i].set_text(nbb_formatted_code);\n",
       "                        }\n",
       "                        break;\n",
       "                    }\n",
       "                }\n",
       "            }, 500);\n",
       "            "
      ],
      "text/plain": [
       "<IPython.core.display.Javascript object>"
      ]
     },
     "metadata": {},
     "output_type": "display_data"
    }
   ],
   "source": [
    "para_cn = para_dict_A[mdl]\n",
    "para_cn[\"n_switch\"] = Q(1, \"1\")\n",
    "para_cn[\"t0\"] = Q(ds.sel(exp=exp)[\"time\"].data[0].year, \"yr\")\n",
    "para_cn[\"CplsP0\"] = Q(ds.sel(exp=exp)[\"cVeg\"].data[0], \"GtC\")\n",
    "\n",
    "para_cn[\"CplsL0\"] = Q(ds.sel(exp=exp)[\"cLitter\"].data[0], \"GtC\") if \"UKESM\" not in mdl else Q(0, \"GtC\")\n",
    "para_cn[\"CplsS0\"] = Q(ds.sel(exp=exp)[\"cSoil\"].data[0], \"GtC\")\n",
    "para_cn[\"NplsP0\"] = Q(ds.sel(exp=exp)[\"nVeg\"].data[0], \"GtN\")\n",
    "para_cn[\"NplsL0\"] = Q(ds.sel(exp=exp)[\"nLitter\"].data[0], \"GtN\") if \"UKESM\" not in mdl else Q(0, \"GtN\")\n",
    "para_cn[\"NplsS0\"] = Q(ds.sel(exp=exp)[\"nSoil\"].data[0], \"GtN\")\n",
    "para_cn[\"NplsM0\"] = Q(ds.sel(exp=exp)[\"nMineral\"].data[0], \"GtN\")"
   ]
  },
  {
   "cell_type": "code",
   "execution_count": 277,
   "id": "95d1a626-5226-4840-bdfb-08e0f1b5632f",
   "metadata": {
    "scrolled": true
   },
   "outputs": [
    {
     "data": {
      "text/plain": [
       "{'co2ref': 284.3169860839844,\n",
       " 'co2b': 31,\n",
       " 's_dt2npp': -0.22263960637345248,\n",
       " 's_dt2npp_sig': 0.24876508020516208,\n",
       " 'method_eff_dt2npp': 0.8437278436755538,\n",
       " 's_co2_log': 0.11268086177157863,\n",
       " 's_co2_sig': 0.003987759047925173,\n",
       " 'method_eff_co2': 0.994867090626594,\n",
       " 'cflxnpp0': 69.9491837983166,\n",
       " 'nflxpumax': 2.6659131588548064,\n",
       " 'cflxnppref': -118.9678587973138,\n",
       " 's_dt2pu': -0.048158768602243746,\n",
       " 'eff_cn2npp0': 1.230947067097159,\n",
       " 's_pu2npp': -0.8374784635680705,\n",
       " 's_ad2npp': 1.6932514008976498,\n",
       " 'frclurgr': 0.999681783909657,\n",
       " 'time_rgr': 50.047163140767836,\n",
       " 'cflxlpr0': 4.163130325706606,\n",
       " 's_dt2lpr': -0.19264145490325066,\n",
       " 'frcnpp2p': 0.487647734833344,\n",
       " 'frcnpp2l': 0.0,\n",
       " 'frclp2l': 0.0,\n",
       " 'frcld2s': 0.0,\n",
       " 'frclu2p': 0.9391913430996246,\n",
       " 'frclu2l': 0.0,\n",
       " 's_dt2lp_c': 0.03994822211987838,\n",
       " 's_pu2lp_c': -1.7775638314439437,\n",
       " 's_ad2lp_c': 6.884423451939254,\n",
       " 's_dt2ld_c': 0.0,\n",
       " 's_pu2ld_c': 0.0,\n",
       " 's_ad2ld_c': 0.0,\n",
       " 's_dt2sr_c': 0.06380036506072967,\n",
       " 's_pu2sr_c': -1.3632151438759754,\n",
       " 's_ad2sr_c': 3.0915665031823263,\n",
       " 'ctntp': 14.95908045697154,\n",
       " 'ctntl': 99.99,\n",
       " 'ctnts': 20.987977677086164,\n",
       " 'frcbnf2p': 0.13033363189828262,\n",
       " 'frcbnf2l': 0.0,\n",
       " 'frcnpu2p': 0.039081291482931504,\n",
       " 'frcnpu2l': 0.0,\n",
       " 'frcnlp2l': 0.0,\n",
       " 'frcnld2s': 0.0,\n",
       " 'frcnlu2p': 0.12873129643739128,\n",
       " 'frcnlu2l': 0.0,\n",
       " 'ntntm': 0.9224610095672221,\n",
       " 's_dt2ls_n': 0.01198511690471054,\n",
       " 's_dt2lp_n': -0.009864129830332285,\n",
       " 's_pu2lp_n': -2.518547147172381,\n",
       " 's_ad2lp_n': 6.631877911185494,\n",
       " 's_dt2ld_n': 0.0022890933765547616,\n",
       " 's_pu2ld_n': 3.3879476560521316e-05,\n",
       " 's_ad2ld_n': 0.0007357163579193691,\n",
       " 's_dt2sr_n': 0.04939829296869399,\n",
       " 's_pu2sr_n': -1.047417001372102,\n",
       " 's_ad2sr_n': 2.2944952099173714,\n",
       " 'ntntp': 46.97684440954987,\n",
       " 'ntntl': 1.0183859309910253,\n",
       " 'ntnts': 222.75618886121595,\n",
       " 'n_switch': 1,\n",
       " 't0': 1850,\n",
       " 'cplsp0': 581.8913828531901,\n",
       " 'cplsl0': 0,\n",
       " 'cplss0': 1766.2753092447917,\n",
       " 'nplsp0': 2.590585251649221,\n",
       " 'nplsl0': 0,\n",
       " 'nplss0': 138.63011678059897,\n",
       " 'nplsm0': 0.09987183660268784,\n",
       " 'step_size': 0.5}"
      ]
     },
     "execution_count": 277,
     "metadata": {},
     "output_type": "execute_result"
    },
    {
     "data": {
      "application/javascript": [
       "\n",
       "            setTimeout(function() {\n",
       "                var nbb_cell_id = 277;\n",
       "                var nbb_unformatted_code = \"land_cn_para = {}\\nfor i in list(para_cn.keys()):\\n    j = i.lower()\\n    land_cn_para[j] = para_cn[i].m\\n\\nland_cn_para[\\\"step_size\\\"] = 0.5\\nland_cn_para\";\n",
       "                var nbb_formatted_code = \"land_cn_para = {}\\nfor i in list(para_cn.keys()):\\n    j = i.lower()\\n    land_cn_para[j] = para_cn[i].m\\n\\nland_cn_para[\\\"step_size\\\"] = 0.5\\nland_cn_para\";\n",
       "                var nbb_cells = Jupyter.notebook.get_cells();\n",
       "                for (var i = 0; i < nbb_cells.length; ++i) {\n",
       "                    if (nbb_cells[i].input_prompt_number == nbb_cell_id) {\n",
       "                        if (nbb_cells[i].get_text() == nbb_unformatted_code) {\n",
       "                             nbb_cells[i].set_text(nbb_formatted_code);\n",
       "                        }\n",
       "                        break;\n",
       "                    }\n",
       "                }\n",
       "            }, 500);\n",
       "            "
      ],
      "text/plain": [
       "<IPython.core.display.Javascript object>"
      ]
     },
     "metadata": {},
     "output_type": "display_data"
    }
   ],
   "source": [
    "land_cn_para = {}\n",
    "for i in list(para_cn.keys()):\n",
    "    j = i.lower()\n",
    "    land_cn_para[j] = para_cn[i].m\n",
    "\n",
    "land_cn_para[\"step_size\"] = 0.5\n",
    "land_cn_para"
   ]
  },
  {
   "cell_type": "code",
   "execution_count": null,
   "id": "5e9fe5c3-e4d1-4010-9752-174f5a02eb1d",
   "metadata": {
    "scrolled": true
   },
   "outputs": [],
   "source": []
  },
  {
   "cell_type": "code",
   "execution_count": null,
   "id": "e004615b-dd9d-4457-ba88-63b3b31e910e",
   "metadata": {
    "scrolled": true
   },
   "outputs": [],
   "source": []
  },
  {
   "cell_type": "code",
   "execution_count": 278,
   "id": "9e3bfdb3-6200-48ce-a38b-fc101c645508",
   "metadata": {},
   "outputs": [
    {
     "data": {
      "application/javascript": [
       "\n",
       "            setTimeout(function() {\n",
       "                var nbb_cell_id = 278;\n",
       "                var nbb_unformatted_code = \"saved_path = \\\"/Users/gatang/MAGICC/magicc/run/\\\"\";\n",
       "                var nbb_formatted_code = \"saved_path = \\\"/Users/gatang/MAGICC/magicc/run/\\\"\";\n",
       "                var nbb_cells = Jupyter.notebook.get_cells();\n",
       "                for (var i = 0; i < nbb_cells.length; ++i) {\n",
       "                    if (nbb_cells[i].input_prompt_number == nbb_cell_id) {\n",
       "                        if (nbb_cells[i].get_text() == nbb_unformatted_code) {\n",
       "                             nbb_cells[i].set_text(nbb_formatted_code);\n",
       "                        }\n",
       "                        break;\n",
       "                    }\n",
       "                }\n",
       "            }, 500);\n",
       "            "
      ],
      "text/plain": [
       "<IPython.core.display.Javascript object>"
      ]
     },
     "metadata": {},
     "output_type": "display_data"
    }
   ],
   "source": [
    "saved_path = \"/Users/gatang/MAGICC/magicc/run/\""
   ]
  },
  {
   "cell_type": "code",
   "execution_count": 279,
   "id": "e733f420-b071-42db-bc07-4a25d1d5e07d",
   "metadata": {
    "scrolled": true
   },
   "outputs": [
    {
     "data": {
      "application/javascript": [
       "\n",
       "            setTimeout(function() {\n",
       "                var nbb_cell_id = 279;\n",
       "                var nbb_unformatted_code = \"for i, j in zip([\\\"dT_s\\\", \\\"CO2_s\\\", \\\"CflxLU_s\\\", \\\"NflxAD_s\\\", \\\"NflxBNF_s\\\", \\\"NflxFT_s\\\", \\\"NflxLU_s\\\"],[\\\"tas\\\", \\\"co2\\\", \\\"fAnthLucFireBalanced\\\", \\\"fNdep\\\", \\\"fBNF\\\", \\\"fNfert\\\", \\\"fNAnthLucFire\\\"]):\\n    if \\\"dT\\\" in i:\\n        value_unit = \\\"k\\\"\\n    elif \\\"CO2\\\" in i:\\n        value_unit = \\\"ppm\\\"\\n    elif \\\"Cflx\\\" in i:\\n        value_unit = \\\"GtC/yr\\\"\\n    elif \\\"Nflx\\\" in i:\\n        value_unit = \\\"GtN/yr\\\"\\n    timeaxis_unit = \\\"yr\\\"\\n    \\n    if j != \\\"co2\\\":\\n        da = ds[j].sel(exp=exp)\\n        value_array = da.data\\n        value_array = value_array[~np.isnan(value_array)]\\n        array_size = len(value_array)\\n        value_last_bound = value_array[-1]\\n        timeaxis_array = da[\\\"time\\\"].dt.year.data[:array_size]\\n        timeaxis_last_bound = timeaxis_array[-1] + 1\\n    else:\\n        da = CO2_hist_ssp[exp]\\n        value_array = da.data\\n        value_array = value_array[:array_size]\\n        array_size = len(value_array)\\n        value_last_bound = value_array[-1]\\n        timeaxis_array = da[\\\"time\\\"].data[:array_size]\\n        timeaxis_last_bound = timeaxis_array[-1] + 1\\n        \\n    name = i.lower()\\n    with open(saved_path + 'land_cn_input_' + name +'.txt', 'w') as file:\\n        # Write the array name and values\\n        file.write('&nml_land_cn_input_timeseries'+ \\\"\\\\n\\\")\\n        file.write('  name = ' + f'\\\"{name}\\\"' + \\\",\\\\n\\\")\\n        file.write('  array_size = ' + str(array_size) +\\\",\\\\n\\\")\\n        file.write('  value_array = ' + ', '.join(str(k) for k in value_array) + \\\",\\\\n\\\")\\n        file.write('  value_last_bound = ' + str(value_last_bound) +\\\",\\\\n\\\")\\n        file.write('  value_unit = ' + f'\\\"{value_unit}\\\"' + \\\",\\\\n\\\")\\n        file.write('  timeaxis_array = ' + ', '.join(str(k) for k in timeaxis_array) + \\\",\\\\n\\\")\\n        file.write('  timeaxis_last_bound = ' + str(timeaxis_last_bound) +\\\",\\\\n\\\")\\n        file.write('  timeaxis_unit = ' + f'\\\"{timeaxis_unit}\\\"' +\\\",\\\\n\\\")\\n        file.write('/')\\n        file.write('\\\\n\\\\n')\";\n",
       "                var nbb_formatted_code = \"for i, j in zip(\\n    [\\\"dT_s\\\", \\\"CO2_s\\\", \\\"CflxLU_s\\\", \\\"NflxAD_s\\\", \\\"NflxBNF_s\\\", \\\"NflxFT_s\\\", \\\"NflxLU_s\\\"],\\n    [\\\"tas\\\", \\\"co2\\\", \\\"fAnthLucFireBalanced\\\", \\\"fNdep\\\", \\\"fBNF\\\", \\\"fNfert\\\", \\\"fNAnthLucFire\\\"],\\n):\\n    if \\\"dT\\\" in i:\\n        value_unit = \\\"k\\\"\\n    elif \\\"CO2\\\" in i:\\n        value_unit = \\\"ppm\\\"\\n    elif \\\"Cflx\\\" in i:\\n        value_unit = \\\"GtC/yr\\\"\\n    elif \\\"Nflx\\\" in i:\\n        value_unit = \\\"GtN/yr\\\"\\n    timeaxis_unit = \\\"yr\\\"\\n\\n    if j != \\\"co2\\\":\\n        da = ds[j].sel(exp=exp)\\n        value_array = da.data\\n        value_array = value_array[~np.isnan(value_array)]\\n        array_size = len(value_array)\\n        value_last_bound = value_array[-1]\\n        timeaxis_array = da[\\\"time\\\"].dt.year.data[:array_size]\\n        timeaxis_last_bound = timeaxis_array[-1] + 1\\n    else:\\n        da = CO2_hist_ssp[exp]\\n        value_array = da.data\\n        value_array = value_array[:array_size]\\n        array_size = len(value_array)\\n        value_last_bound = value_array[-1]\\n        timeaxis_array = da[\\\"time\\\"].data[:array_size]\\n        timeaxis_last_bound = timeaxis_array[-1] + 1\\n\\n    name = i.lower()\\n    with open(saved_path + \\\"land_cn_input_\\\" + name + \\\".txt\\\", \\\"w\\\") as file:\\n        # Write the array name and values\\n        file.write(\\\"&nml_land_cn_input_timeseries\\\" + \\\"\\\\n\\\")\\n        file.write(\\\"  name = \\\" + f'\\\"{name}\\\"' + \\\",\\\\n\\\")\\n        file.write(\\\"  array_size = \\\" + str(array_size) + \\\",\\\\n\\\")\\n        file.write(\\\"  value_array = \\\" + \\\", \\\".join(str(k) for k in value_array) + \\\",\\\\n\\\")\\n        file.write(\\\"  value_last_bound = \\\" + str(value_last_bound) + \\\",\\\\n\\\")\\n        file.write(\\\"  value_unit = \\\" + f'\\\"{value_unit}\\\"' + \\\",\\\\n\\\")\\n        file.write(\\n            \\\"  timeaxis_array = \\\" + \\\", \\\".join(str(k) for k in timeaxis_array) + \\\",\\\\n\\\"\\n        )\\n        file.write(\\\"  timeaxis_last_bound = \\\" + str(timeaxis_last_bound) + \\\",\\\\n\\\")\\n        file.write(\\\"  timeaxis_unit = \\\" + f'\\\"{timeaxis_unit}\\\"' + \\\",\\\\n\\\")\\n        file.write(\\\"/\\\")\\n        file.write(\\\"\\\\n\\\\n\\\")\";\n",
       "                var nbb_cells = Jupyter.notebook.get_cells();\n",
       "                for (var i = 0; i < nbb_cells.length; ++i) {\n",
       "                    if (nbb_cells[i].input_prompt_number == nbb_cell_id) {\n",
       "                        if (nbb_cells[i].get_text() == nbb_unformatted_code) {\n",
       "                             nbb_cells[i].set_text(nbb_formatted_code);\n",
       "                        }\n",
       "                        break;\n",
       "                    }\n",
       "                }\n",
       "            }, 500);\n",
       "            "
      ],
      "text/plain": [
       "<IPython.core.display.Javascript object>"
      ]
     },
     "metadata": {},
     "output_type": "display_data"
    }
   ],
   "source": [
    "for i, j in zip([\"dT_s\", \"CO2_s\", \"CflxLU_s\", \"NflxAD_s\", \"NflxBNF_s\", \"NflxFT_s\", \"NflxLU_s\"],[\"tas\", \"co2\", \"fAnthLucFireBalanced\", \"fNdep\", \"fBNF\", \"fNfert\", \"fNAnthLucFire\"]):\n",
    "    if \"dT\" in i:\n",
    "        value_unit = \"k\"\n",
    "    elif \"CO2\" in i:\n",
    "        value_unit = \"ppm\"\n",
    "    elif \"Cflx\" in i:\n",
    "        value_unit = \"GtC/yr\"\n",
    "    elif \"Nflx\" in i:\n",
    "        value_unit = \"GtN/yr\"\n",
    "    timeaxis_unit = \"yr\"\n",
    "    \n",
    "    if j != \"co2\":\n",
    "        da = ds[j].sel(exp=exp)\n",
    "        value_array = da.data\n",
    "        value_array = value_array[~np.isnan(value_array)]\n",
    "        array_size = len(value_array)\n",
    "        value_last_bound = value_array[-1]\n",
    "        timeaxis_array = da[\"time\"].dt.year.data[:array_size]\n",
    "        timeaxis_last_bound = timeaxis_array[-1] + 1\n",
    "    else:\n",
    "        da = CO2_hist_ssp[exp]\n",
    "        value_array = da.data\n",
    "        value_array = value_array[:array_size]\n",
    "        array_size = len(value_array)\n",
    "        value_last_bound = value_array[-1]\n",
    "        timeaxis_array = da[\"time\"].data[:array_size]\n",
    "        timeaxis_last_bound = timeaxis_array[-1] + 1\n",
    "        \n",
    "    name = i.lower()\n",
    "    with open(saved_path + 'land_cn_input_' + name +'.txt', 'w') as file:\n",
    "        # Write the array name and values\n",
    "        file.write('&nml_land_cn_input_timeseries'+ \"\\n\")\n",
    "        file.write('  name = ' + f'\"{name}\"' + \",\\n\")\n",
    "        file.write('  array_size = ' + str(array_size) +\",\\n\")\n",
    "        file.write('  value_array = ' + ', '.join(str(k) for k in value_array) + \",\\n\")\n",
    "        file.write('  value_last_bound = ' + str(value_last_bound) +\",\\n\")\n",
    "        file.write('  value_unit = ' + f'\"{value_unit}\"' + \",\\n\")\n",
    "        file.write('  timeaxis_array = ' + ', '.join(str(k) for k in timeaxis_array) + \",\\n\")\n",
    "        file.write('  timeaxis_last_bound = ' + str(timeaxis_last_bound) +\",\\n\")\n",
    "        file.write('  timeaxis_unit = ' + f'\"{timeaxis_unit}\"' +\",\\n\")\n",
    "        file.write('/')\n",
    "        file.write('\\n\\n')"
   ]
  },
  {
   "cell_type": "code",
   "execution_count": null,
   "id": "6e24d868-8281-4b7a-bf75-c9f964bff29f",
   "metadata": {},
   "outputs": [],
   "source": []
  },
  {
   "cell_type": "code",
   "execution_count": null,
   "id": "d54e971a-c196-438a-986b-facb877c2318",
   "metadata": {},
   "outputs": [],
   "source": []
  },
  {
   "cell_type": "code",
   "execution_count": null,
   "id": "58e2605a-a71a-40d3-a826-6dea23131fcb",
   "metadata": {},
   "outputs": [],
   "source": []
  },
  {
   "cell_type": "code",
   "execution_count": 280,
   "id": "2ad51df7-5b97-46d0-a887-5145168fd916",
   "metadata": {},
   "outputs": [
    {
     "data": {
      "application/javascript": [
       "\n",
       "            setTimeout(function() {\n",
       "                var nbb_cell_id = 280;\n",
       "                var nbb_unformatted_code = \"# Gang to change path if needed\\nROOT_DIR_MAGICC_REPO = \\\"/Users/gatang/MAGICC/magicc\\\"\\nos.environ[\\\"MAGICC_EXECUTABLE_7\\\"] = str(ROOT_DIR_MAGICC_REPO + \\\"/bin/magicc\\\")\";\n",
       "                var nbb_formatted_code = \"# Gang to change path if needed\\nROOT_DIR_MAGICC_REPO = \\\"/Users/gatang/MAGICC/magicc\\\"\\nos.environ[\\\"MAGICC_EXECUTABLE_7\\\"] = str(ROOT_DIR_MAGICC_REPO + \\\"/bin/magicc\\\")\";\n",
       "                var nbb_cells = Jupyter.notebook.get_cells();\n",
       "                for (var i = 0; i < nbb_cells.length; ++i) {\n",
       "                    if (nbb_cells[i].input_prompt_number == nbb_cell_id) {\n",
       "                        if (nbb_cells[i].get_text() == nbb_unformatted_code) {\n",
       "                             nbb_cells[i].set_text(nbb_formatted_code);\n",
       "                        }\n",
       "                        break;\n",
       "                    }\n",
       "                }\n",
       "            }, 500);\n",
       "            "
      ],
      "text/plain": [
       "<IPython.core.display.Javascript object>"
      ]
     },
     "metadata": {},
     "output_type": "display_data"
    }
   ],
   "source": [
    "# Gang to change path if needed\n",
    "ROOT_DIR_MAGICC_REPO = \"/Users/gatang/MAGICC/magicc\"\n",
    "os.environ[\"MAGICC_EXECUTABLE_7\"] = str(ROOT_DIR_MAGICC_REPO + \"/bin/magicc\")"
   ]
  },
  {
   "cell_type": "code",
   "execution_count": 281,
   "id": "36e8e465-34db-4074-9af2-06c88785c928",
   "metadata": {},
   "outputs": [
    {
     "data": {
      "application/javascript": [
       "\n",
       "            setTimeout(function() {\n",
       "                var nbb_cell_id = 281;\n",
       "                var nbb_unformatted_code = \"ssp = \\\"ssp585\\\"\\nscenario_filename = f\\\"{ssp.upper()}_EMMS.SCEN7\\\"\\nscenario = pymagicc.MAGICCData(\\n    str(ROOT_DIR_MAGICC_REPO+\\\"/run/\\\" + scenario_filename)\\n)\\nscenario[\\\"scenario\\\"] = \\\"ssp585\\\"\";\n",
       "                var nbb_formatted_code = \"ssp = \\\"ssp585\\\"\\nscenario_filename = f\\\"{ssp.upper()}_EMMS.SCEN7\\\"\\nscenario = pymagicc.MAGICCData(str(ROOT_DIR_MAGICC_REPO + \\\"/run/\\\" + scenario_filename))\\nscenario[\\\"scenario\\\"] = \\\"ssp585\\\"\";\n",
       "                var nbb_cells = Jupyter.notebook.get_cells();\n",
       "                for (var i = 0; i < nbb_cells.length; ++i) {\n",
       "                    if (nbb_cells[i].input_prompt_number == nbb_cell_id) {\n",
       "                        if (nbb_cells[i].get_text() == nbb_unformatted_code) {\n",
       "                             nbb_cells[i].set_text(nbb_formatted_code);\n",
       "                        }\n",
       "                        break;\n",
       "                    }\n",
       "                }\n",
       "            }, 500);\n",
       "            "
      ],
      "text/plain": [
       "<IPython.core.display.Javascript object>"
      ]
     },
     "metadata": {},
     "output_type": "display_data"
    }
   ],
   "source": [
    "ssp = \"ssp585\"\n",
    "scenario_filename = f\"{ssp.upper()}_EMMS.SCEN7\"\n",
    "scenario = pymagicc.MAGICCData(\n",
    "    str(ROOT_DIR_MAGICC_REPO+\"/run/\" + scenario_filename)\n",
    ")\n",
    "scenario[\"scenario\"] = \"ssp585\""
   ]
  },
  {
   "cell_type": "code",
   "execution_count": null,
   "id": "450199de-2d07-4001-a871-d36b879184be",
   "metadata": {},
   "outputs": [],
   "source": []
  },
  {
   "cell_type": "code",
   "execution_count": null,
   "id": "a5d1b2e6-fad7-4577-a366-d9c2e7a40802",
   "metadata": {},
   "outputs": [],
   "source": []
  },
  {
   "cell_type": "code",
   "execution_count": 282,
   "id": "f6483062-1ded-4b53-a4f7-bfb96a8c0734",
   "metadata": {},
   "outputs": [
    {
     "name": "stderr",
     "output_type": "stream",
     "text": [
      "/Users/gatang/Research/pymagicc/pymagicc/pymagicc/core.py:444: UserWarning: magicc logged a ERROR message. Check the 'stderr' key of the result's `metadata` attribute.\n",
      "  warnings.warn(\n",
      "/Users/gatang/Research/pymagicc/pymagicc/pymagicc/core.py:444: UserWarning: magicc logged a ERROR message. Check the 'stderr' key of the result's `metadata` attribute.\n",
      "  warnings.warn(\n"
     ]
    },
    {
     "data": {
      "application/javascript": [
       "\n",
       "            setTimeout(function() {\n",
       "                var nbb_cell_id = 282;\n",
       "                var nbb_unformatted_code = \"# # Generally, don't use this\\n# with pymagicc.MAGICC7(root_dir=ROOT_DIR_MAGICC_REPO) as magicc:\\nwith pymagicc.MAGICC7() as magicc:\\n    res_l = []\\n    for n_switch in [0, 1]:\\n        land_cn_para[\\\"n_switch\\\"] = n_switch\\n        res_run = magicc.run(\\n            co2_switchfromconc2emis_year=2015,\\n            scenario=scenario,\\n            out_dynamic_vars=[\\n                \\\"DAT_SURFACE_TEMP\\\",\\n                \\\"DAT_CO2_CONC\\\",\\n                \\\"DAT_CO2_LAND_POOL\\\",\\n                \\\"DAT_CO2_NETATMOSLANDCO2FLUX\\\",\\n                \\\"DAT_CO2_CURRENT_NPP\\\",\\n                \\\"DAT_CO2_TOTALRESPIRATION\\\",\\n                \\\"DAT_CO2_PLANT_POOL\\\",\\n                \\\"DAT_CO2_DETRITUS_POOL\\\",\\n                \\\"DAT_CO2_SOIL_POOL\\\"\\n            ],\\n            startyear=1850,\\n            endyear=2100,\\n            land_cn_parameters=land_cn_para,\\n        )\\n            # TOOD: add variable handling\\n            # TODO: add argument passing\\n\\n        # res_run[\\\"cplsp0\\\"] = cplsp0\\n        res_run[\\\"n_switch\\\"] = n_switch\\n\\n        res_l.append(res_run)\\n        # breakpoint()\\nres = scmdata.run_append(res_l)\";\n",
       "                var nbb_formatted_code = \"# # Generally, don't use this\\n# with pymagicc.MAGICC7(root_dir=ROOT_DIR_MAGICC_REPO) as magicc:\\nwith pymagicc.MAGICC7() as magicc:\\n    res_l = []\\n    for n_switch in [0, 1]:\\n        land_cn_para[\\\"n_switch\\\"] = n_switch\\n        res_run = magicc.run(\\n            co2_switchfromconc2emis_year=2015,\\n            scenario=scenario,\\n            out_dynamic_vars=[\\n                \\\"DAT_SURFACE_TEMP\\\",\\n                \\\"DAT_CO2_CONC\\\",\\n                \\\"DAT_CO2_LAND_POOL\\\",\\n                \\\"DAT_CO2_NETATMOSLANDCO2FLUX\\\",\\n                \\\"DAT_CO2_CURRENT_NPP\\\",\\n                \\\"DAT_CO2_TOTALRESPIRATION\\\",\\n                \\\"DAT_CO2_PLANT_POOL\\\",\\n                \\\"DAT_CO2_DETRITUS_POOL\\\",\\n                \\\"DAT_CO2_SOIL_POOL\\\",\\n            ],\\n            startyear=1850,\\n            endyear=2100,\\n            land_cn_parameters=land_cn_para,\\n        )\\n        # TOOD: add variable handling\\n        # TODO: add argument passing\\n\\n        # res_run[\\\"cplsp0\\\"] = cplsp0\\n        res_run[\\\"n_switch\\\"] = n_switch\\n\\n        res_l.append(res_run)\\n        # breakpoint()\\nres = scmdata.run_append(res_l)\";\n",
       "                var nbb_cells = Jupyter.notebook.get_cells();\n",
       "                for (var i = 0; i < nbb_cells.length; ++i) {\n",
       "                    if (nbb_cells[i].input_prompt_number == nbb_cell_id) {\n",
       "                        if (nbb_cells[i].get_text() == nbb_unformatted_code) {\n",
       "                             nbb_cells[i].set_text(nbb_formatted_code);\n",
       "                        }\n",
       "                        break;\n",
       "                    }\n",
       "                }\n",
       "            }, 500);\n",
       "            "
      ],
      "text/plain": [
       "<IPython.core.display.Javascript object>"
      ]
     },
     "metadata": {},
     "output_type": "display_data"
    }
   ],
   "source": [
    "# # Generally, don't use this\n",
    "# with pymagicc.MAGICC7(root_dir=ROOT_DIR_MAGICC_REPO) as magicc:\n",
    "with pymagicc.MAGICC7() as magicc:\n",
    "    res_l = []\n",
    "    for n_switch in [0, 1]:\n",
    "        land_cn_para[\"n_switch\"] = n_switch\n",
    "        res_run = magicc.run(\n",
    "            co2_switchfromconc2emis_year=2015,\n",
    "            scenario=scenario,\n",
    "            out_dynamic_vars=[\n",
    "                \"DAT_SURFACE_TEMP\",\n",
    "                \"DAT_CO2_CONC\",\n",
    "                \"DAT_CO2_LAND_POOL\",\n",
    "                \"DAT_CO2_NETATMOSLANDCO2FLUX\",\n",
    "                \"DAT_CO2_CURRENT_NPP\",\n",
    "                \"DAT_CO2_TOTALRESPIRATION\",\n",
    "                \"DAT_CO2_PLANT_POOL\",\n",
    "                \"DAT_CO2_DETRITUS_POOL\",\n",
    "                \"DAT_CO2_SOIL_POOL\"\n",
    "            ],\n",
    "            startyear=1850,\n",
    "            endyear=2100,\n",
    "            land_cn_parameters=land_cn_para,\n",
    "        )\n",
    "            # TOOD: add variable handling\n",
    "            # TODO: add argument passing\n",
    "\n",
    "        # res_run[\"cplsp0\"] = cplsp0\n",
    "        res_run[\"n_switch\"] = n_switch\n",
    "\n",
    "        res_l.append(res_run)\n",
    "        # breakpoint()\n",
    "res = scmdata.run_append(res_l)"
   ]
  },
  {
   "cell_type": "code",
   "execution_count": null,
   "id": "71e94b6d-7037-4438-9acf-2f97b9a658c4",
   "metadata": {},
   "outputs": [],
   "source": []
  },
  {
   "cell_type": "code",
   "execution_count": null,
   "id": "1757d76e-7100-4842-a9be-e78b49744773",
   "metadata": {},
   "outputs": [],
   "source": []
  },
  {
   "cell_type": "code",
   "execution_count": 283,
   "id": "c930804d-a32a-4dae-94dd-5dadac7bb8d6",
   "metadata": {},
   "outputs": [
    {
     "data": {
      "application/javascript": [
       "\n",
       "            setTimeout(function() {\n",
       "                var nbb_cell_id = 283;\n",
       "                var nbb_unformatted_code = \"n_switch = set(res.filter(region=\\\"World\\\")[\\\"n_switch\\\"])\";\n",
       "                var nbb_formatted_code = \"n_switch = set(res.filter(region=\\\"World\\\")[\\\"n_switch\\\"])\";\n",
       "                var nbb_cells = Jupyter.notebook.get_cells();\n",
       "                for (var i = 0; i < nbb_cells.length; ++i) {\n",
       "                    if (nbb_cells[i].input_prompt_number == nbb_cell_id) {\n",
       "                        if (nbb_cells[i].get_text() == nbb_unformatted_code) {\n",
       "                             nbb_cells[i].set_text(nbb_formatted_code);\n",
       "                        }\n",
       "                        break;\n",
       "                    }\n",
       "                }\n",
       "            }, 500);\n",
       "            "
      ],
      "text/plain": [
       "<IPython.core.display.Javascript object>"
      ]
     },
     "metadata": {},
     "output_type": "display_data"
    }
   ],
   "source": [
    "n_switch = set(res.filter(region=\"World\")[\"n_switch\"])"
   ]
  },
  {
   "cell_type": "code",
   "execution_count": 284,
   "id": "f7bcd75a-3f13-4d16-a3c0-f3c8ab01234c",
   "metadata": {},
   "outputs": [
    {
     "data": {
      "application/javascript": [
       "\n",
       "            setTimeout(function() {\n",
       "                var nbb_cell_id = 284;\n",
       "                var nbb_unformatted_code = \"year = [i.year for i in list(res[\\\"time\\\"].values)]\";\n",
       "                var nbb_formatted_code = \"year = [i.year for i in list(res[\\\"time\\\"].values)]\";\n",
       "                var nbb_cells = Jupyter.notebook.get_cells();\n",
       "                for (var i = 0; i < nbb_cells.length; ++i) {\n",
       "                    if (nbb_cells[i].input_prompt_number == nbb_cell_id) {\n",
       "                        if (nbb_cells[i].get_text() == nbb_unformatted_code) {\n",
       "                             nbb_cells[i].set_text(nbb_formatted_code);\n",
       "                        }\n",
       "                        break;\n",
       "                    }\n",
       "                }\n",
       "            }, 500);\n",
       "            "
      ],
      "text/plain": [
       "<IPython.core.display.Javascript object>"
      ]
     },
     "metadata": {},
     "output_type": "display_data"
    }
   ],
   "source": [
    "year = [i.year for i in list(res[\"time\"].values)]"
   ]
  },
  {
   "cell_type": "code",
   "execution_count": 285,
   "id": "a8a0fd98-6768-4905-b891-dcd50d80a7be",
   "metadata": {},
   "outputs": [
    {
     "data": {
      "application/javascript": [
       "\n",
       "            setTimeout(function() {\n",
       "                var nbb_cell_id = 285;\n",
       "                var nbb_unformatted_code = \"co2 = res.filter(region=\\\"World\\\", variable='Atmospheric Concentrations|CO2')\\ncpls_land = res.filter(region=\\\"World\\\", variable='CO2_LAND_POOL')\\ncflx_netland = res.filter(region=\\\"World\\\", variable='CO2_NETATMOSLANDCO2FLUX')\\ndt = res.filter(region=\\\"World\\\", variable='Surface Temperature')\";\n",
       "                var nbb_formatted_code = \"co2 = res.filter(region=\\\"World\\\", variable=\\\"Atmospheric Concentrations|CO2\\\")\\ncpls_land = res.filter(region=\\\"World\\\", variable=\\\"CO2_LAND_POOL\\\")\\ncflx_netland = res.filter(region=\\\"World\\\", variable=\\\"CO2_NETATMOSLANDCO2FLUX\\\")\\ndt = res.filter(region=\\\"World\\\", variable=\\\"Surface Temperature\\\")\";\n",
       "                var nbb_cells = Jupyter.notebook.get_cells();\n",
       "                for (var i = 0; i < nbb_cells.length; ++i) {\n",
       "                    if (nbb_cells[i].input_prompt_number == nbb_cell_id) {\n",
       "                        if (nbb_cells[i].get_text() == nbb_unformatted_code) {\n",
       "                             nbb_cells[i].set_text(nbb_formatted_code);\n",
       "                        }\n",
       "                        break;\n",
       "                    }\n",
       "                }\n",
       "            }, 500);\n",
       "            "
      ],
      "text/plain": [
       "<IPython.core.display.Javascript object>"
      ]
     },
     "metadata": {},
     "output_type": "display_data"
    }
   ],
   "source": [
    "co2 = res.filter(region=\"World\", variable='Atmospheric Concentrations|CO2')\n",
    "cpls_land = res.filter(region=\"World\", variable='CO2_LAND_POOL')\n",
    "cflx_netland = res.filter(region=\"World\", variable='CO2_NETATMOSLANDCO2FLUX')\n",
    "dt = res.filter(region=\"World\", variable='Surface Temperature')"
   ]
  },
  {
   "cell_type": "code",
   "execution_count": 286,
   "id": "9dffe2c1-247b-473b-8e41-7429acd9848b",
   "metadata": {},
   "outputs": [
    {
     "data": {
      "application/javascript": [
       "\n",
       "            setTimeout(function() {\n",
       "                var nbb_cell_id = 286;\n",
       "                var nbb_unformatted_code = \"npp = res.filter(region=\\\"World\\\", variable='CO2_CURRENT_NPP')\\nrh = res.filter(region=\\\"World\\\", variable='CO2_TOTALRESPIRATION')\";\n",
       "                var nbb_formatted_code = \"npp = res.filter(region=\\\"World\\\", variable=\\\"CO2_CURRENT_NPP\\\")\\nrh = res.filter(region=\\\"World\\\", variable=\\\"CO2_TOTALRESPIRATION\\\")\";\n",
       "                var nbb_cells = Jupyter.notebook.get_cells();\n",
       "                for (var i = 0; i < nbb_cells.length; ++i) {\n",
       "                    if (nbb_cells[i].input_prompt_number == nbb_cell_id) {\n",
       "                        if (nbb_cells[i].get_text() == nbb_unformatted_code) {\n",
       "                             nbb_cells[i].set_text(nbb_formatted_code);\n",
       "                        }\n",
       "                        break;\n",
       "                    }\n",
       "                }\n",
       "            }, 500);\n",
       "            "
      ],
      "text/plain": [
       "<IPython.core.display.Javascript object>"
      ]
     },
     "metadata": {},
     "output_type": "display_data"
    }
   ],
   "source": [
    "npp = res.filter(region=\"World\", variable='CO2_CURRENT_NPP')\n",
    "rh = res.filter(region=\"World\", variable='CO2_TOTALRESPIRATION')"
   ]
  },
  {
   "cell_type": "code",
   "execution_count": 287,
   "id": "cfc0d96e-7050-42e0-b6a1-40c1492cde10",
   "metadata": {
    "scrolled": true
   },
   "outputs": [
    {
     "data": {
      "application/javascript": [
       "\n",
       "            setTimeout(function() {\n",
       "                var nbb_cell_id = 287;\n",
       "                var nbb_unformatted_code = \"cplsp = res.filter(region=\\\"World\\\", variable='CO2_PLANT_POOL')\\ncplsl = res.filter(region=\\\"World\\\", variable='CO2_DETRITUS_POOL')\\ncplss = res.filter(region=\\\"World\\\", variable='CO2_SOIL_POOL')\";\n",
       "                var nbb_formatted_code = \"cplsp = res.filter(region=\\\"World\\\", variable=\\\"CO2_PLANT_POOL\\\")\\ncplsl = res.filter(region=\\\"World\\\", variable=\\\"CO2_DETRITUS_POOL\\\")\\ncplss = res.filter(region=\\\"World\\\", variable=\\\"CO2_SOIL_POOL\\\")\";\n",
       "                var nbb_cells = Jupyter.notebook.get_cells();\n",
       "                for (var i = 0; i < nbb_cells.length; ++i) {\n",
       "                    if (nbb_cells[i].input_prompt_number == nbb_cell_id) {\n",
       "                        if (nbb_cells[i].get_text() == nbb_unformatted_code) {\n",
       "                             nbb_cells[i].set_text(nbb_formatted_code);\n",
       "                        }\n",
       "                        break;\n",
       "                    }\n",
       "                }\n",
       "            }, 500);\n",
       "            "
      ],
      "text/plain": [
       "<IPython.core.display.Javascript object>"
      ]
     },
     "metadata": {},
     "output_type": "display_data"
    }
   ],
   "source": [
    "cplsp = res.filter(region=\"World\", variable='CO2_PLANT_POOL')\n",
    "cplsl = res.filter(region=\"World\", variable='CO2_DETRITUS_POOL')\n",
    "cplss = res.filter(region=\"World\", variable='CO2_SOIL_POOL')"
   ]
  },
  {
   "cell_type": "code",
   "execution_count": null,
   "id": "6a0b4924-1511-4adb-88f1-20add6317ac5",
   "metadata": {},
   "outputs": [],
   "source": []
  },
  {
   "cell_type": "code",
   "execution_count": 288,
   "id": "c87ef75d-eee4-4fa1-b591-9ccec800ac09",
   "metadata": {},
   "outputs": [
    {
     "data": {
      "application/javascript": [
       "\n",
       "            setTimeout(function() {\n",
       "                var nbb_cell_id = 288;\n",
       "                var nbb_unformatted_code = \"var4plot= [dt, co2, cpls_land, cflx_netland, npp, rh]\\nlabel_list = [\\\"temperature\\\", \\\"CO2\\\", \\\"CplsLand\\\", \\\"CflxNetLand\\\", \\\"npp\\\", \\\"rh\\\"]\";\n",
       "                var nbb_formatted_code = \"var4plot = [dt, co2, cpls_land, cflx_netland, npp, rh]\\nlabel_list = [\\\"temperature\\\", \\\"CO2\\\", \\\"CplsLand\\\", \\\"CflxNetLand\\\", \\\"npp\\\", \\\"rh\\\"]\";\n",
       "                var nbb_cells = Jupyter.notebook.get_cells();\n",
       "                for (var i = 0; i < nbb_cells.length; ++i) {\n",
       "                    if (nbb_cells[i].input_prompt_number == nbb_cell_id) {\n",
       "                        if (nbb_cells[i].get_text() == nbb_unformatted_code) {\n",
       "                             nbb_cells[i].set_text(nbb_formatted_code);\n",
       "                        }\n",
       "                        break;\n",
       "                    }\n",
       "                }\n",
       "            }, 500);\n",
       "            "
      ],
      "text/plain": [
       "<IPython.core.display.Javascript object>"
      ]
     },
     "metadata": {},
     "output_type": "display_data"
    }
   ],
   "source": [
    "var4plot= [dt, co2, cpls_land, cflx_netland, npp, rh]\n",
    "label_list = [\"temperature\", \"CO2\", \"CplsLand\", \"CflxNetLand\", \"npp\", \"rh\"]"
   ]
  },
  {
   "cell_type": "code",
   "execution_count": 289,
   "id": "eaed014a-7cc0-4507-8b7c-74e5c3c35ad0",
   "metadata": {},
   "outputs": [
    {
     "data": {
      "image/png": "[encoded data removed]",
      "text/plain": [
       "<Figure size 944.882x137.795 with 6 Axes>"
      ]
     },
     "metadata": {},
     "output_type": "display_data"
    },
    {
     "data": {
      "application/javascript": [
       "\n",
       "            setTimeout(function() {\n",
       "                var nbb_cell_id = 289;\n",
       "                var nbb_unformatted_code = \"fig, axs = plt.subplots(1, 6, figsize=(24/2.54, 3.5/2.54))\\n\\nfor var, label, ax in zip(var4plot, label_list, axs):\\n    for i in n_switch:\\n        ax.plot(year, var.filter(n_switch=i).values[0])\\n    ax.set_ylabel(label, fontsize=8)\\n    ax.tick_params(axis='both', which='major', labelsize=6)  # Major ticks\\n    ax.tick_params(axis='both', which='minor', labelsize=6)  # Minor ticks\\n\\naxs[0].plot(year,ds[\\\"tas\\\"].sel(exp=exp).data - ds[\\\"tas\\\"].sel(exp=exp).data[0], \\\"--\\\", linewidth=0.5, color=\\\"black\\\")\\naxs[0].legend([\\\"n_switch=0\\\", \\\"n_switch=1\\\", \\\"ESM res\\\"],fontsize=8)\\naxs[0].set_title(mdl+\\\"_\\\"+exp, fontsize=8)\\n\\n\\nplt.subplots_adjust(left=0, right=1, bottom=0, top=1, wspace=0.45, hspace=0)\";\n",
       "                var nbb_formatted_code = \"fig, axs = plt.subplots(1, 6, figsize=(24 / 2.54, 3.5 / 2.54))\\n\\nfor var, label, ax in zip(var4plot, label_list, axs):\\n    for i in n_switch:\\n        ax.plot(year, var.filter(n_switch=i).values[0])\\n    ax.set_ylabel(label, fontsize=8)\\n    ax.tick_params(axis=\\\"both\\\", which=\\\"major\\\", labelsize=6)  # Major ticks\\n    ax.tick_params(axis=\\\"both\\\", which=\\\"minor\\\", labelsize=6)  # Minor ticks\\n\\naxs[0].plot(\\n    year,\\n    ds[\\\"tas\\\"].sel(exp=exp).data - ds[\\\"tas\\\"].sel(exp=exp).data[0],\\n    \\\"--\\\",\\n    linewidth=0.5,\\n    color=\\\"black\\\",\\n)\\naxs[0].legend([\\\"n_switch=0\\\", \\\"n_switch=1\\\", \\\"ESM res\\\"], fontsize=8)\\naxs[0].set_title(mdl + \\\"_\\\" + exp, fontsize=8)\\n\\n\\nplt.subplots_adjust(left=0, right=1, bottom=0, top=1, wspace=0.45, hspace=0)\";\n",
       "                var nbb_cells = Jupyter.notebook.get_cells();\n",
       "                for (var i = 0; i < nbb_cells.length; ++i) {\n",
       "                    if (nbb_cells[i].input_prompt_number == nbb_cell_id) {\n",
       "                        if (nbb_cells[i].get_text() == nbb_unformatted_code) {\n",
       "                             nbb_cells[i].set_text(nbb_formatted_code);\n",
       "                        }\n",
       "                        break;\n",
       "                    }\n",
       "                }\n",
       "            }, 500);\n",
       "            "
      ],
      "text/plain": [
       "<IPython.core.display.Javascript object>"
      ]
     },
     "metadata": {},
     "output_type": "display_data"
    }
   ],
   "source": [
    "fig, axs = plt.subplots(1, 6, figsize=(24/2.54, 3.5/2.54))\n",
    "\n",
    "for var, label, ax in zip(var4plot, label_list, axs):\n",
    "    for i in n_switch:\n",
    "        ax.plot(year, var.filter(n_switch=i).values[0])\n",
    "    ax.set_ylabel(label, fontsize=8)\n",
    "    ax.tick_params(axis='both', which='major', labelsize=6)  # Major ticks\n",
    "    ax.tick_params(axis='both', which='minor', labelsize=6)  # Minor ticks\n",
    "\n",
    "axs[0].plot(year,ds[\"tas\"].sel(exp=exp).data - ds[\"tas\"].sel(exp=exp).data[0], \"--\", linewidth=0.5, color=\"black\")\n",
    "axs[0].legend([\"n_switch=0\", \"n_switch=1\", \"ESM res\"],fontsize=8)\n",
    "axs[0].set_title(mdl+\"_\"+exp, fontsize=8)\n",
    "\n",
    "\n",
    "plt.subplots_adjust(left=0, right=1, bottom=0, top=1, wspace=0.45, hspace=0)"
   ]
  },
  {
   "cell_type": "code",
   "execution_count": 290,
   "id": "44561c70-0448-4229-b8fc-bf09e689f9f5",
   "metadata": {},
   "outputs": [
    {
     "data": {
      "application/javascript": [
       "\n",
       "            setTimeout(function() {\n",
       "                var nbb_cell_id = 290;\n",
       "                var nbb_unformatted_code = \"var4plot= [cplsp, cplsl, cplss, npp, rh]\\nlabel_list = [\\\"cplsp\\\", \\\"cplsl\\\", \\\"cplss\\\"]\";\n",
       "                var nbb_formatted_code = \"var4plot = [cplsp, cplsl, cplss, npp, rh]\\nlabel_list = [\\\"cplsp\\\", \\\"cplsl\\\", \\\"cplss\\\"]\";\n",
       "                var nbb_cells = Jupyter.notebook.get_cells();\n",
       "                for (var i = 0; i < nbb_cells.length; ++i) {\n",
       "                    if (nbb_cells[i].input_prompt_number == nbb_cell_id) {\n",
       "                        if (nbb_cells[i].get_text() == nbb_unformatted_code) {\n",
       "                             nbb_cells[i].set_text(nbb_formatted_code);\n",
       "                        }\n",
       "                        break;\n",
       "                    }\n",
       "                }\n",
       "            }, 500);\n",
       "            "
      ],
      "text/plain": [
       "<IPython.core.display.Javascript object>"
      ]
     },
     "metadata": {},
     "output_type": "display_data"
    }
   ],
   "source": [
    "var4plot= [cplsp, cplsl, cplss, npp, rh]\n",
    "label_list = [\"cplsp\", \"cplsl\", \"cplss\"]"
   ]
  },
  {
   "cell_type": "code",
   "execution_count": 291,
   "id": "4226dd9d-85ab-471f-bdee-fd9b3811f4c9",
   "metadata": {},
   "outputs": [
    {
     "data": {
      "image/png": "[encoded data removed]",
      "text/plain": [
       "<Figure size 472.441x137.795 with 3 Axes>"
      ]
     },
     "metadata": {},
     "output_type": "display_data"
    },
    {
     "data": {
      "application/javascript": [
       "\n",
       "            setTimeout(function() {\n",
       "                var nbb_cell_id = 291;\n",
       "                var nbb_unformatted_code = \"fig, axs = plt.subplots(1, 3, figsize=(12/2.54, 3.5/2.54))\\n\\nfor var, label, ax in zip(var4plot, label_list, axs):\\n    for i in n_switch:\\n        ax.plot(year, var.filter(n_switch=i).values[0])\\n    ax.set_ylabel(label, fontsize=8)\\n    ax.tick_params(axis='both', which='major', labelsize=6)  # Major ticks\\n    ax.tick_params(axis='both', which='minor', labelsize=6)  # Minor ticks\\n\\naxs[0].legend([\\\"n_switch=0\\\", \\\"n_switch=1\\\"],fontsize=8)\\naxs[0].set_title(mdl+\\\"_\\\"+exp, fontsize=8)\\n\\n\\nplt.subplots_adjust(left=0, right=1, bottom=0, top=1, wspace=0.45, hspace=0)\";\n",
       "                var nbb_formatted_code = \"fig, axs = plt.subplots(1, 3, figsize=(12 / 2.54, 3.5 / 2.54))\\n\\nfor var, label, ax in zip(var4plot, label_list, axs):\\n    for i in n_switch:\\n        ax.plot(year, var.filter(n_switch=i).values[0])\\n    ax.set_ylabel(label, fontsize=8)\\n    ax.tick_params(axis=\\\"both\\\", which=\\\"major\\\", labelsize=6)  # Major ticks\\n    ax.tick_params(axis=\\\"both\\\", which=\\\"minor\\\", labelsize=6)  # Minor ticks\\n\\naxs[0].legend([\\\"n_switch=0\\\", \\\"n_switch=1\\\"], fontsize=8)\\naxs[0].set_title(mdl + \\\"_\\\" + exp, fontsize=8)\\n\\n\\nplt.subplots_adjust(left=0, right=1, bottom=0, top=1, wspace=0.45, hspace=0)\";\n",
       "                var nbb_cells = Jupyter.notebook.get_cells();\n",
       "                for (var i = 0; i < nbb_cells.length; ++i) {\n",
       "                    if (nbb_cells[i].input_prompt_number == nbb_cell_id) {\n",
       "                        if (nbb_cells[i].get_text() == nbb_unformatted_code) {\n",
       "                             nbb_cells[i].set_text(nbb_formatted_code);\n",
       "                        }\n",
       "                        break;\n",
       "                    }\n",
       "                }\n",
       "            }, 500);\n",
       "            "
      ],
      "text/plain": [
       "<IPython.core.display.Javascript object>"
      ]
     },
     "metadata": {},
     "output_type": "display_data"
    }
   ],
   "source": [
    "fig, axs = plt.subplots(1, 3, figsize=(12/2.54, 3.5/2.54))\n",
    "\n",
    "for var, label, ax in zip(var4plot, label_list, axs):\n",
    "    for i in n_switch:\n",
    "        ax.plot(year, var.filter(n_switch=i).values[0])\n",
    "    ax.set_ylabel(label, fontsize=8)\n",
    "    ax.tick_params(axis='both', which='major', labelsize=6)  # Major ticks\n",
    "    ax.tick_params(axis='both', which='minor', labelsize=6)  # Minor ticks\n",
    "\n",
    "axs[0].legend([\"n_switch=0\", \"n_switch=1\"],fontsize=8)\n",
    "axs[0].set_title(mdl+\"_\"+exp, fontsize=8)\n",
    "\n",
    "\n",
    "plt.subplots_adjust(left=0, right=1, bottom=0, top=1, wspace=0.45, hspace=0)"
   ]
  },
  {
   "cell_type": "code",
   "execution_count": null,
   "id": "1fd7e50a-b9bb-4ffb-8f38-01b9bb7f3c90",
   "metadata": {},
   "outputs": [],
   "source": []
  },
  {
   "cell_type": "code",
   "execution_count": null,
   "id": "6ad851a1-915f-4900-83ca-1a72e6e0ade6",
   "metadata": {},
   "outputs": [],
   "source": []
  },
  {
   "cell_type": "code",
   "execution_count": 292,
   "id": "28b90d09-fa2c-4f15-90d4-ad7c64c41709",
   "metadata": {},
   "outputs": [
    {
     "data": {
      "image/png": "[encoded data removed]",
      "text/plain": [
       "<Figure size 590.551x196.85 with 3 Axes>"
      ]
     },
     "metadata": {},
     "output_type": "display_data"
    },
    {
     "data": {
      "application/javascript": [
       "\n",
       "            setTimeout(function() {\n",
       "                var nbb_cell_id = 292;\n",
       "                var nbb_unformatted_code = \"fig, axs = plt.subplots(1, 3, figsize=(15/2.54, 5/2.54))\\n\\nfor i in n_switch:\\n    axs[0].plot(year, npp.filter(n_switch=i).values[0])\\n    axs[1].plot(year,rh.filter(n_switch=i).values[0])\\n    axs[2].plot(year,npp.filter(n_switch=i).values[0]-rh.filter(n_switch=i).values[0])\\n    \\n    axs[0].set_ylabel(set(npp[\\\"variable\\\"]), fontsize=6)\\n    axs[1].set_ylabel(set(rh[\\\"variable\\\"]), fontsize=6)\\n    axs[2].set_ylabel(\\\"npp-rh\\\", fontsize=6)\\n\\naxs[-1].legend([\\\"n_switch=0\\\", \\\"n_switch=1\\\"])\\n\\nplt.tight_layout()\";\n",
       "                var nbb_formatted_code = \"fig, axs = plt.subplots(1, 3, figsize=(15 / 2.54, 5 / 2.54))\\n\\nfor i in n_switch:\\n    axs[0].plot(year, npp.filter(n_switch=i).values[0])\\n    axs[1].plot(year, rh.filter(n_switch=i).values[0])\\n    axs[2].plot(\\n        year, npp.filter(n_switch=i).values[0] - rh.filter(n_switch=i).values[0]\\n    )\\n\\n    axs[0].set_ylabel(set(npp[\\\"variable\\\"]), fontsize=6)\\n    axs[1].set_ylabel(set(rh[\\\"variable\\\"]), fontsize=6)\\n    axs[2].set_ylabel(\\\"npp-rh\\\", fontsize=6)\\n\\naxs[-1].legend([\\\"n_switch=0\\\", \\\"n_switch=1\\\"])\\n\\nplt.tight_layout()\";\n",
       "                var nbb_cells = Jupyter.notebook.get_cells();\n",
       "                for (var i = 0; i < nbb_cells.length; ++i) {\n",
       "                    if (nbb_cells[i].input_prompt_number == nbb_cell_id) {\n",
       "                        if (nbb_cells[i].get_text() == nbb_unformatted_code) {\n",
       "                             nbb_cells[i].set_text(nbb_formatted_code);\n",
       "                        }\n",
       "                        break;\n",
       "                    }\n",
       "                }\n",
       "            }, 500);\n",
       "            "
      ],
      "text/plain": [
       "<IPython.core.display.Javascript object>"
      ]
     },
     "metadata": {},
     "output_type": "display_data"
    }
   ],
   "source": [
    "fig, axs = plt.subplots(1, 3, figsize=(15/2.54, 5/2.54))\n",
    "\n",
    "for i in n_switch:\n",
    "    axs[0].plot(year, npp.filter(n_switch=i).values[0])\n",
    "    axs[1].plot(year,rh.filter(n_switch=i).values[0])\n",
    "    axs[2].plot(year,npp.filter(n_switch=i).values[0]-rh.filter(n_switch=i).values[0])\n",
    "    \n",
    "    axs[0].set_ylabel(set(npp[\"variable\"]), fontsize=6)\n",
    "    axs[1].set_ylabel(set(rh[\"variable\"]), fontsize=6)\n",
    "    axs[2].set_ylabel(\"npp-rh\", fontsize=6)\n",
    "\n",
    "axs[-1].legend([\"n_switch=0\", \"n_switch=1\"])\n",
    "\n",
    "plt.tight_layout()"
   ]
  },
  {
   "cell_type": "code",
   "execution_count": null,
   "id": "3cd480e7-75fe-4a61-a91a-6a8cc7d3a7d2",
   "metadata": {},
   "outputs": [],
   "source": []
  },
  {
   "cell_type": "code",
   "execution_count": null,
   "id": "36db4c78-715c-4053-89c4-7a9ebb45b4d7",
   "metadata": {},
   "outputs": [],
   "source": []
  },
  {
   "cell_type": "code",
   "execution_count": null,
   "id": "6ca40087-5948-42e5-904a-f425abca0a3c",
   "metadata": {},
   "outputs": [],
   "source": []
  },
  {
   "cell_type": "code",
   "execution_count": null,
   "id": "f75cc454-e5a8-4fba-bfcf-64e5c02bcd3a",
   "metadata": {},
   "outputs": [],
   "source": []
  },
  {
   "cell_type": "code",
   "execution_count": null,
   "id": "289f76bb-e102-46d9-9ac0-80514d40f626",
   "metadata": {},
   "outputs": [],
   "source": []
  },
  {
   "cell_type": "code",
   "execution_count": null,
   "id": "1e98bfbb-0583-4e44-8087-b74f966f9b8b",
   "metadata": {},
   "outputs": [],
   "source": []
  },
  {
   "cell_type": "code",
   "execution_count": null,
   "id": "e4f7620d-3083-439a-81ee-67fc9577b3e3",
   "metadata": {},
   "outputs": [],
   "source": []
  },
  {
   "cell_type": "code",
   "execution_count": null,
   "id": "5f7ec825-4055-43cc-869b-3d4e3b31f5be",
   "metadata": {},
   "outputs": [],
   "source": []
  },
  {
   "cell_type": "code",
   "execution_count": null,
   "id": "a101a05e-d762-4765-8b78-035607cfba22",
   "metadata": {},
   "outputs": [],
   "source": []
  },
  {
   "cell_type": "code",
   "execution_count": null,
   "id": "64cf7e53-10e3-4746-b988-d3e160dad98e",
   "metadata": {},
   "outputs": [],
   "source": []
  },
  {
   "cell_type": "code",
   "execution_count": null,
   "id": "7a92fa65-a939-4569-8891-81c5cfbbeb9f",
   "metadata": {},
   "outputs": [],
   "source": []
  }
 ],
 "metadata": {
  "kernelspec": {
   "display_name": "Python 3 (ipykernel)",
   "language": "python",
   "name": "python3"
  },
  "language_info": {
   "codemirror_mode": {
    "name": "ipython",
    "version": 3
   },
   "file_extension": ".py",
   "mimetype": "text/x-python",
   "name": "python",
   "nbconvert_exporter": "python",
   "pygments_lexer": "ipython3",
   "version": "3.11.9"
  }
 },
 "nbformat": 4,
 "nbformat_minor": 5
}
